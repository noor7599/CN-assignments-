{
 "cells": [
  {
   "cell_type": "code",
   "execution_count": null,
   "id": "74ad28cb-a675-4988-9107-20a17a71897a",
   "metadata": {},
   "outputs": [
    {
     "name": "stdout",
     "output_type": "stream",
     "text": [
      "Network Output: 0.7644259618818442\n"
     ]
    }
   ],
   "source": [
    "import random\n",
    "\n",
    "class SimpleNN:\n",
    "    def exp(self, x):\n",
    "        result = 1.0\n",
    "        term = 1.0\n",
    "        for i in range(1, 20): \n",
    "            term *= x / i\n",
    "            result += term\n",
    "        return result\n",
    "\n",
    "    def tanh(self, x):\n",
    "        e2x = self.exp(2 * x)\n",
    "        return (e2x - 1) / (e2x + 1)\n",
    "\n",
    "    def __init__(self):\n",
    "        self.w = [random.uniform(-0.5, 0.5) for _ in range(8)]  \n",
    "        self.b1, self.b2 = 0.5, 0.7  \n",
    "\n",
    "    def forward(self, x):\n",
    "        h1 = self.tanh(self.w[0] * x + self.w[1] * x + self.b1)\n",
    "        h2 = self.tanh(self.w[2] * x + self.w[3] * x + self.b1)\n",
    "        out = self.tanh(self.w[4] * h1 + self.w[5] * h2 + self.b2)\n",
    "        return out\n",
    "\n",
    "nn = SimpleNN()\n",
    "x = 0.3 \n",
    "output = nn.forward(x)\n",
    "print(\"Network Output:\", output)\n"
   ]
  },
  {
   "cell_type": "code",
   "execution_count": null,
   "id": "f53c00c7",
   "metadata": {},
   "outputs": [],
   "source": []
  }
 ],
 "metadata": {
  "kernelspec": {
   "display_name": "Python 3",
   "language": "python",
   "name": "python3"
  },
  "language_info": {
   "codemirror_mode": {
    "name": "ipython",
    "version": 3
   },
   "file_extension": ".py",
   "mimetype": "text/x-python",
   "name": "python",
   "nbconvert_exporter": "python",
   "pygments_lexer": "ipython3",
   "version": "3.12.7"
  }
 },
 "nbformat": 4,
 "nbformat_minor": 5
}
