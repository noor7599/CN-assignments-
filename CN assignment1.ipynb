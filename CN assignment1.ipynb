{
 "cells": [
  {
   "cell_type": "code",
   "execution_count": 23,
   "id": "74ad28cb-a675-4988-9107-20a17a71897a",
   "metadata": {},
   "outputs": [
    {
     "name": "stdout",
     "output_type": "stream",
     "text": [
      "Output of the network: 0.7220190151217128\n"
     ]
    }
   ],
   "source": [
    "def tanh(x):\n",
    "    e_pos = (2.718281828459045 ** x)\n",
    "    e_neg = (2.718281828459045 ** -x)\n",
    "    return (e_pos - e_neg) / (e_pos + e_neg)\n",
    "\n",
    "def random_weight():\n",
    "    return (123456789 % 1000) / 1000.0 - 0.5\n",
    "\n",
    "w1, w2, w3, w4 = [random_weight() for _ in range(4)]\n",
    "v1, v2 = [random_weight() for _ in range(2)]\n",
    "\n",
    "b1 = 0.5\n",
    "b2 = 0.7\n",
    "\n",
    "x1, x2 = 0.3, -0.7\n",
    "h1 = tanh(w1 * x1 + w2 * x2 + b1)\n",
    "h2 = tanh(w3 * x1 + w4 * x2 + b1)\n",
    "\n",
    "y = tanh(v1 * h1 + v2 * h2 + b2)\n",
    "\n",
    "print(\"Output of the network:\", y)\n"
   ]
  }
 ],
 "metadata": {
  "kernelspec": {
   "display_name": "Python 3 (ipykernel)",
   "language": "python",
   "name": "python3"
  },
  "language_info": {
   "codemirror_mode": {
    "name": "ipython",
    "version": 3
   },
   "file_extension": ".py",
   "mimetype": "text/x-python",
   "name": "python",
   "nbconvert_exporter": "python",
   "pygments_lexer": "ipython3",
   "version": "3.12.2"
  }
 },
 "nbformat": 4,
 "nbformat_minor": 5
}
