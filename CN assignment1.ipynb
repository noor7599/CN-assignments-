def tanh(x):
    e_pos = (2.718281828459045 ** x)
    e_neg = (2.718281828459045 ** -x)
    return (e_pos - e_neg) / (e_pos + e_neg)

def random_weight():
    return (123456789 % 1000) / 1000.0 - 0.5

w1, w2, w3, w4 = [random_weight() for _ in range(4)]
v1, v2 = [random_weight() for _ in range(2)]

b1 = 0.5
b2 = 0.7

x1, x2 = 0.3, -0.7
h1 = tanh(w1 * x1 + w2 * x2 + b1)
h2 = tanh(w3 * x1 + w4 * x2 + b1)

y = tanh(v1 * h1 + v2 * h2 + b2)

print("Output of the network:", y)
